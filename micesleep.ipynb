{
 "cells": [
  {
   "cell_type": "markdown",
   "metadata": {},
   "source": [
    "# Mice sleep"
   ]
  },
  {
   "cell_type": "markdown",
   "metadata": {},
   "source": [
    "## Data reading, normalization/pre-processing, and seperation"
   ]
  },
  {
   "cell_type": "code",
   "execution_count": 6,
   "metadata": {},
   "outputs": [],
   "source": [
    "import pandas as pd\n",
    "import numpy as np"
   ]
  },
  {
   "cell_type": "code",
   "execution_count": 15,
   "metadata": {},
   "outputs": [
    {
     "data": {
      "text/html": [
       "<div>\n",
       "<style scoped>\n",
       "    .dataframe tbody tr th:only-of-type {\n",
       "        vertical-align: middle;\n",
       "    }\n",
       "\n",
       "    .dataframe tbody tr th {\n",
       "        vertical-align: top;\n",
       "    }\n",
       "\n",
       "    .dataframe thead th {\n",
       "        text-align: right;\n",
       "    }\n",
       "</style>\n",
       "<table border=\"1\" class=\"dataframe\">\n",
       "  <thead>\n",
       "    <tr style=\"text-align: right;\">\n",
       "      <th></th>\n",
       "      <th>state</th>\n",
       "      <th>bin0</th>\n",
       "      <th>bin1</th>\n",
       "      <th>bin2</th>\n",
       "      <th>bin3</th>\n",
       "      <th>bin4</th>\n",
       "      <th>bin5</th>\n",
       "      <th>bin6</th>\n",
       "      <th>bin7</th>\n",
       "      <th>bin8</th>\n",
       "      <th>...</th>\n",
       "      <th>bin394</th>\n",
       "      <th>bin395</th>\n",
       "      <th>bin396</th>\n",
       "      <th>bin397</th>\n",
       "      <th>bin398</th>\n",
       "      <th>bin399</th>\n",
       "      <th>bin400</th>\n",
       "      <th>EEGv</th>\n",
       "      <th>EMGv</th>\n",
       "      <th>temp</th>\n",
       "    </tr>\n",
       "  </thead>\n",
       "  <tbody>\n",
       "    <tr>\n",
       "      <th>0</th>\n",
       "      <td>119</td>\n",
       "      <td>0.000154</td>\n",
       "      <td>0.000048</td>\n",
       "      <td>0.000003</td>\n",
       "      <td>2.148770e-05</td>\n",
       "      <td>1.632360e-05</td>\n",
       "      <td>1.604630e-05</td>\n",
       "      <td>1.569020e-05</td>\n",
       "      <td>9.569190e-06</td>\n",
       "      <td>2.992340e-05</td>\n",
       "      <td>...</td>\n",
       "      <td>4.778510e-10</td>\n",
       "      <td>3.952580e-10</td>\n",
       "      <td>3.429190e-09</td>\n",
       "      <td>6.106250e-09</td>\n",
       "      <td>3.552800e-09</td>\n",
       "      <td>3.909590e-09</td>\n",
       "      <td>1.493170e-08</td>\n",
       "      <td>4.719158e-09</td>\n",
       "      <td>1.597187e-09</td>\n",
       "      <td>0.0</td>\n",
       "    </tr>\n",
       "    <tr>\n",
       "      <th>1</th>\n",
       "      <td>119</td>\n",
       "      <td>0.000052</td>\n",
       "      <td>0.000084</td>\n",
       "      <td>0.000009</td>\n",
       "      <td>7.071300e-06</td>\n",
       "      <td>9.172860e-06</td>\n",
       "      <td>4.433370e-06</td>\n",
       "      <td>3.053690e-06</td>\n",
       "      <td>8.397030e-06</td>\n",
       "      <td>8.254330e-06</td>\n",
       "      <td>...</td>\n",
       "      <td>1.958490e-09</td>\n",
       "      <td>2.502730e-09</td>\n",
       "      <td>2.280000e-09</td>\n",
       "      <td>5.343420e-10</td>\n",
       "      <td>2.715390e-10</td>\n",
       "      <td>6.042040e-10</td>\n",
       "      <td>1.768590e-09</td>\n",
       "      <td>4.708915e-09</td>\n",
       "      <td>1.839138e-09</td>\n",
       "      <td>0.0</td>\n",
       "    </tr>\n",
       "    <tr>\n",
       "      <th>2</th>\n",
       "      <td>119</td>\n",
       "      <td>0.000004</td>\n",
       "      <td>0.000003</td>\n",
       "      <td>0.000009</td>\n",
       "      <td>2.246900e-06</td>\n",
       "      <td>8.937540e-06</td>\n",
       "      <td>3.990790e-06</td>\n",
       "      <td>8.024030e-07</td>\n",
       "      <td>4.551380e-06</td>\n",
       "      <td>6.409220e-06</td>\n",
       "      <td>...</td>\n",
       "      <td>1.049450e-10</td>\n",
       "      <td>4.993360e-10</td>\n",
       "      <td>1.033830e-09</td>\n",
       "      <td>2.020390e-10</td>\n",
       "      <td>9.781460e-10</td>\n",
       "      <td>6.192400e-09</td>\n",
       "      <td>1.743470e-08</td>\n",
       "      <td>4.812772e-09</td>\n",
       "      <td>2.612307e-09</td>\n",
       "      <td>0.0</td>\n",
       "    </tr>\n",
       "    <tr>\n",
       "      <th>3</th>\n",
       "      <td>119</td>\n",
       "      <td>0.000002</td>\n",
       "      <td>0.000015</td>\n",
       "      <td>0.000039</td>\n",
       "      <td>6.720840e-06</td>\n",
       "      <td>5.050530e-07</td>\n",
       "      <td>8.436160e-07</td>\n",
       "      <td>1.011240e-06</td>\n",
       "      <td>6.865460e-07</td>\n",
       "      <td>7.357910e-08</td>\n",
       "      <td>...</td>\n",
       "      <td>3.089290e-09</td>\n",
       "      <td>1.684690e-09</td>\n",
       "      <td>2.604550e-09</td>\n",
       "      <td>2.139050e-09</td>\n",
       "      <td>1.311040e-09</td>\n",
       "      <td>5.807190e-09</td>\n",
       "      <td>1.398960e-08</td>\n",
       "      <td>4.208398e-09</td>\n",
       "      <td>8.921635e-10</td>\n",
       "      <td>0.0</td>\n",
       "    </tr>\n",
       "    <tr>\n",
       "      <th>4</th>\n",
       "      <td>119</td>\n",
       "      <td>0.000129</td>\n",
       "      <td>0.000089</td>\n",
       "      <td>0.000011</td>\n",
       "      <td>7.559840e-07</td>\n",
       "      <td>2.077260e-06</td>\n",
       "      <td>4.817490e-06</td>\n",
       "      <td>2.384510e-05</td>\n",
       "      <td>2.080720e-05</td>\n",
       "      <td>2.435700e-05</td>\n",
       "      <td>...</td>\n",
       "      <td>1.017240e-09</td>\n",
       "      <td>1.610110e-10</td>\n",
       "      <td>8.243920e-10</td>\n",
       "      <td>3.875150e-10</td>\n",
       "      <td>1.901600e-09</td>\n",
       "      <td>4.381190e-09</td>\n",
       "      <td>1.166410e-08</td>\n",
       "      <td>4.206695e-09</td>\n",
       "      <td>4.336937e-09</td>\n",
       "      <td>0.0</td>\n",
       "    </tr>\n",
       "  </tbody>\n",
       "</table>\n",
       "<p>5 rows × 405 columns</p>\n",
       "</div>"
      ],
      "text/plain": [
       "   state      bin0      bin1      bin2          bin3          bin4  \\\n",
       "0    119  0.000154  0.000048  0.000003  2.148770e-05  1.632360e-05   \n",
       "1    119  0.000052  0.000084  0.000009  7.071300e-06  9.172860e-06   \n",
       "2    119  0.000004  0.000003  0.000009  2.246900e-06  8.937540e-06   \n",
       "3    119  0.000002  0.000015  0.000039  6.720840e-06  5.050530e-07   \n",
       "4    119  0.000129  0.000089  0.000011  7.559840e-07  2.077260e-06   \n",
       "\n",
       "           bin5          bin6          bin7          bin8  ...        bin394  \\\n",
       "0  1.604630e-05  1.569020e-05  9.569190e-06  2.992340e-05  ...  4.778510e-10   \n",
       "1  4.433370e-06  3.053690e-06  8.397030e-06  8.254330e-06  ...  1.958490e-09   \n",
       "2  3.990790e-06  8.024030e-07  4.551380e-06  6.409220e-06  ...  1.049450e-10   \n",
       "3  8.436160e-07  1.011240e-06  6.865460e-07  7.357910e-08  ...  3.089290e-09   \n",
       "4  4.817490e-06  2.384510e-05  2.080720e-05  2.435700e-05  ...  1.017240e-09   \n",
       "\n",
       "         bin395        bin396        bin397        bin398        bin399  \\\n",
       "0  3.952580e-10  3.429190e-09  6.106250e-09  3.552800e-09  3.909590e-09   \n",
       "1  2.502730e-09  2.280000e-09  5.343420e-10  2.715390e-10  6.042040e-10   \n",
       "2  4.993360e-10  1.033830e-09  2.020390e-10  9.781460e-10  6.192400e-09   \n",
       "3  1.684690e-09  2.604550e-09  2.139050e-09  1.311040e-09  5.807190e-09   \n",
       "4  1.610110e-10  8.243920e-10  3.875150e-10  1.901600e-09  4.381190e-09   \n",
       "\n",
       "         bin400          EEGv          EMGv  temp  \n",
       "0  1.493170e-08  4.719158e-09  1.597187e-09   0.0  \n",
       "1  1.768590e-09  4.708915e-09  1.839138e-09   0.0  \n",
       "2  1.743470e-08  4.812772e-09  2.612307e-09   0.0  \n",
       "3  1.398960e-08  4.208398e-09  8.921635e-10   0.0  \n",
       "4  1.166410e-08  4.206695e-09  4.336937e-09   0.0  \n",
       "\n",
       "[5 rows x 405 columns]"
      ]
     },
     "execution_count": 15,
     "metadata": {},
     "output_type": "execute_result"
    }
   ],
   "source": [
    "# The file is made up of the following structure:\n",
    "# state : char (1 byte)\n",
    "# bin : array[0..400] of single (array of 401 floats (4 bytes each))\n",
    "# EEGv,EMGv,temp : single (4 bytes each)\n",
    "# Make a pandas dataframe with the data with appropriate column names\n",
    "# Create a dtype with the binary data format and the desired column names\n",
    "file = './data/DBA10.smo'\n",
    "dt = [('state', 'i1')]\n",
    "for i in range(401):\n",
    "    dt.append(('bin' + str(i), 'f4'))\n",
    "dt.append(('EEGv', 'f4'))\n",
    "dt.append(('EMGv', 'f4'))\n",
    "dt.append(('temp', 'f4'))\n",
    "dt = np.dtype(dt)\n",
    "data = np.fromfile(file, dtype=dt)\n",
    "# Or if you want to explicitly set the column names\n",
    "df = pd.DataFrame.from_records(data)\n",
    "df.head()\n",
    "            "
   ]
  },
  {
   "cell_type": "markdown",
   "metadata": {},
   "source": [
    "## Feature Selection"
   ]
  },
  {
   "cell_type": "code",
   "execution_count": null,
   "metadata": {},
   "outputs": [],
   "source": [
    "# Selecting features"
   ]
  },
  {
   "cell_type": "markdown",
   "metadata": {},
   "source": [
    "## Model building"
   ]
  },
  {
   "cell_type": "markdown",
   "metadata": {},
   "source": [
    "### Model 1: Linear Regression"
   ]
  },
  {
   "cell_type": "code",
   "execution_count": null,
   "metadata": {},
   "outputs": [],
   "source": []
  },
  {
   "cell_type": "markdown",
   "metadata": {},
   "source": [
    "### Model 2: Random Forest"
   ]
  },
  {
   "cell_type": "code",
   "execution_count": null,
   "metadata": {},
   "outputs": [],
   "source": []
  },
  {
   "cell_type": "markdown",
   "metadata": {},
   "source": [
    "### Model 3: Decision Tree"
   ]
  },
  {
   "cell_type": "code",
   "execution_count": null,
   "metadata": {},
   "outputs": [],
   "source": []
  },
  {
   "cell_type": "markdown",
   "metadata": {},
   "source": [
    "### Model 4: Perceptron"
   ]
  },
  {
   "cell_type": "code",
   "execution_count": null,
   "metadata": {},
   "outputs": [],
   "source": []
  },
  {
   "cell_type": "markdown",
   "metadata": {},
   "source": [
    "### Model 5: CNN"
   ]
  },
  {
   "cell_type": "code",
   "execution_count": null,
   "metadata": {},
   "outputs": [],
   "source": []
  },
  {
   "cell_type": "markdown",
   "metadata": {},
   "source": [
    "## Model Comparison"
   ]
  },
  {
   "cell_type": "code",
   "execution_count": null,
   "metadata": {},
   "outputs": [],
   "source": []
  }
 ],
 "metadata": {
  "kernelspec": {
   "display_name": "Python 3.10.8 64-bit (microsoft store)",
   "language": "python",
   "name": "python3"
  },
  "language_info": {
   "codemirror_mode": {
    "name": "ipython",
    "version": 3
   },
   "file_extension": ".py",
   "mimetype": "text/x-python",
   "name": "python",
   "nbconvert_exporter": "python",
   "pygments_lexer": "ipython3",
   "version": "3.10.8"
  },
  "orig_nbformat": 4,
  "vscode": {
   "interpreter": {
    "hash": "91ac732fbc8480f7642c9a751dc825e2cbf7dc061328ff547e4bb365fb75e938"
   }
  }
 },
 "nbformat": 4,
 "nbformat_minor": 2
}
